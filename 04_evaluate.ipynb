{
 "cells": [
  {
   "cell_type": "markdown",
   "id": "e0c0dc37-8261-4054-99b8-dcb6886d1c27",
   "metadata": {},
   "source": [
    "## Evaluate\n",
    "* Load the previously trained models\n",
    "* Load the test data\n",
    "* Evaluate the accuracy and inference speed of each model"
   ]
  },
  {
   "cell_type": "code",
   "execution_count": 1,
   "id": "77d48b70-ba6f-42e3-8371-292f4a5ad33f",
   "metadata": {},
   "outputs": [
    {
     "name": "stderr",
     "output_type": "stream",
     "text": [
      "2025-01-16 20:05:25.291332: I tensorflow/core/util/port.cc:153] oneDNN custom operations are on. You may see slightly different numerical results due to floating-point round-off errors from different computation orders. To turn them off, set the environment variable `TF_ENABLE_ONEDNN_OPTS=0`.\n",
      "2025-01-16 20:05:25.299246: E external/local_xla/xla/stream_executor/cuda/cuda_fft.cc:477] Unable to register cuFFT factory: Attempting to register factory for plugin cuFFT when one has already been registered\n",
      "WARNING: All log messages before absl::InitializeLog() is called are written to STDERR\n",
      "E0000 00:00:1737054325.308362  102648 cuda_dnn.cc:8310] Unable to register cuDNN factory: Attempting to register factory for plugin cuDNN when one has already been registered\n",
      "E0000 00:00:1737054325.311135  102648 cuda_blas.cc:1418] Unable to register cuBLAS factory: Attempting to register factory for plugin cuBLAS when one has already been registered\n",
      "2025-01-16 20:05:25.320631: I tensorflow/core/platform/cpu_feature_guard.cc:210] This TensorFlow binary is optimized to use available CPU instructions in performance-critical operations.\n",
      "To enable the following instructions: AVX2 AVX_VNNI FMA, in other operations, rebuild TensorFlow with the appropriate compiler flags.\n"
     ]
    }
   ],
   "source": [
    "from tensorflow.keras.utils import to_categorical\n",
    "\n",
    "import numpy as np\n",
    "from os.path import join\n",
    "import pickle\n",
    "import random"
   ]
  },
  {
   "cell_type": "markdown",
   "id": "e87d4ac1-a753-42d2-ae83-3954393f5f52",
   "metadata": {},
   "source": [
    "Global variables"
   ]
  },
  {
   "cell_type": "code",
   "execution_count": 2,
   "id": "c67f6474-68f9-4004-a241-dbcbd902f47e",
   "metadata": {},
   "outputs": [],
   "source": [
    "DATA_PATH = 'data'\n",
    "MODELS_PATH = 'models'"
   ]
  },
  {
   "cell_type": "code",
   "execution_count": 10,
   "id": "7e3db513-7342-49d9-b1a8-cc5ee39d7986",
   "metadata": {},
   "outputs": [],
   "source": [
    "# input image dimensions\n",
    "input_width = 300\n",
    "input_height = 300\n",
    "input_depth = 3\n",
    "input_dim = input_width*input_height*input_depth\n",
    "input_shape = (input_width, input_height, input_depth)\n",
    "\n",
    "# classification classes\n",
    "output_classes = 7\n",
    "\n",
    "# size of sample used to train the model\n",
    "NUM_TEST_SAMPLES = 100\n",
    "\n",
    "# Rescale the data (color) values\n",
    "scale = False  # rather not"
   ]
  },
  {
   "cell_type": "markdown",
   "id": "febbc3b2-50a3-40f3-984a-1d2e0babe81d",
   "metadata": {},
   "source": [
    "## Test data\n",
    "Load the data prepared in previous notebook"
   ]
  },
  {
   "cell_type": "code",
   "execution_count": 11,
   "id": "25e1f13f-6671-48c5-8886-6ad2c956fbdb",
   "metadata": {},
   "outputs": [],
   "source": [
    "with np.load(join(DATA_PATH, 'test_data.npz')) as data:\n",
    "    data_dict=dict(data.items())\n",
    "X_test = data_dict['X']\n",
    "y_test = data_dict['y']"
   ]
  },
  {
   "cell_type": "markdown",
   "id": "ccbd1c2e-81a5-4fe4-8b7a-5c7c7d6390be",
   "metadata": {},
   "source": [
    "Optionally subsample the data for faster training during try-outs"
   ]
  },
  {
   "cell_type": "code",
   "execution_count": 12,
   "id": "5847001c-8317-4f9c-906a-1520111538c4",
   "metadata": {},
   "outputs": [],
   "source": [
    "# Get a smaller random sample \n",
    "idx = random.sample(range(len(X_test)-1), NUM_TEST_SAMPLES)\n",
    "X_test_sub = X_test[idx]\n",
    "y_test_sub = y_test[idx]\n",
    "\n",
    "# Flatten images, as required by dumnmy and SVn models\n",
    "X_flat = [img.flatten() for img in X_test_sub]"
   ]
  },
  {
   "cell_type": "markdown",
   "id": "3eaad873-3611-4f78-a02e-d3b86feeed4f",
   "metadata": {},
   "source": [
    "## Test accuracy\n",
    "Test accuracy on test dataset for different models trained in previous notebooks"
   ]
  },
  {
   "cell_type": "markdown",
   "id": "bd58b14f-7f65-4031-bf37-cd2b538b378a",
   "metadata": {},
   "source": [
    "### Dummy model\n",
    "Dummy -most common category- model, used as baseline"
   ]
  },
  {
   "cell_type": "code",
   "execution_count": 13,
   "id": "17e0a089-91f2-4f71-b17c-b6f323682d86",
   "metadata": {},
   "outputs": [],
   "source": [
    "with open(join(MODELS_PATH, 'dummy.pickle'), 'rb') as handle:\n",
    "    dummy = pickle.load(handle)"
   ]
  },
  {
   "cell_type": "code",
   "execution_count": 18,
   "id": "c335a07f-bcb8-4ce3-a83c-2bb692ef4e3d",
   "metadata": {},
   "outputs": [
    {
     "name": "stdout",
     "output_type": "stream",
     "text": [
      "Baseline accuracy: 0.120\n",
      "CPU times: user 2.84 ms, sys: 0 ns, total: 2.84 ms\n",
      "Wall time: 2.55 ms\n"
     ]
    }
   ],
   "source": [
    "%%time\n",
    "# Compute accuracy on the test set\n",
    "accuracy = dummy.score(X_flat, y_test_sub)\n",
    "print('Baseline accuracy: {:.3f}'.format(accuracy))"
   ]
  },
  {
   "cell_type": "markdown",
   "id": "c50358ab-e255-4fa2-8748-471cbff34fa8",
   "metadata": {},
   "source": [
    "### SVN\n",
    "Support Vector Machine, also applied to flattened images"
   ]
  },
  {
   "cell_type": "code",
   "execution_count": 15,
   "id": "4476399d-368b-493d-8226-a509aa2166fe",
   "metadata": {},
   "outputs": [],
   "source": [
    "with open(join(MODELS_PATH, 'pipe_svc.pickle'), 'rb') as handle:\n",
    "    svn = pickle.load(handle)"
   ]
  },
  {
   "cell_type": "code",
   "execution_count": 17,
   "id": "caf39623-bd71-4872-8849-64887ceee49f",
   "metadata": {},
   "outputs": [
    {
     "name": "stdout",
     "output_type": "stream",
     "text": [
      "SVN accuracy: 0.230\n",
      "CPU times: user 6min 28s, sys: 67.9 ms, total: 6min 28s\n",
      "Wall time: 32.6 s\n"
     ]
    }
   ],
   "source": [
    "%%time\n",
    "# Compute accuracy on the test set\n",
    "accuracy = svn.score(X_flat, y_test_sub)\n",
    "print('SVN accuracy: {:.3f}'.format(accuracy))"
   ]
  },
  {
   "cell_type": "markdown",
   "id": "00ad5ca9-76df-4296-8eb3-6912a838c506",
   "metadata": {},
   "source": [
    "### CNN\n",
    "Convolutional Neural Network model, applied to 2D image data"
   ]
  },
  {
   "cell_type": "code",
   "execution_count": 21,
   "id": "03685b13-7d79-44e0-95a0-3cad34982a63",
   "metadata": {},
   "outputs": [
    {
     "name": "stderr",
     "output_type": "stream",
     "text": [
      "2025-01-16 20:21:18.656591: E external/local_xla/xla/stream_executor/cuda/cuda_driver.cc:152] failed call to cuInit: INTERNAL: CUDA error: Failed call to cuInit: UNKNOWN ERROR (303)\n"
     ]
    }
   ],
   "source": [
    "with open(join(MODELS_PATH, 'cnn.pickle'), 'rb') as handle:\n",
    "    cnn = pickle.load(handle)"
   ]
  },
  {
   "cell_type": "code",
   "execution_count": 19,
   "id": "fc8f0356-3e77-49eb-bd64-e43b40e3ab58",
   "metadata": {},
   "outputs": [],
   "source": [
    "# One-hot encode the labels\n",
    "_, y_test_preprocessed = np.unique(y_test, return_inverse=True)"
   ]
  },
  {
   "cell_type": "code",
   "execution_count": 23,
   "id": "a1c68e8e-dcde-44ef-a6be-a0ad6534693d",
   "metadata": {},
   "outputs": [
    {
     "name": "stdout",
     "output_type": "stream",
     "text": [
      "\u001b[1m121/121\u001b[0m \u001b[32m━━━━━━━━━━━━━━━━━━━━\u001b[0m\u001b[37m\u001b[0m \u001b[1m63s\u001b[0m 519ms/step - acc: 0.1555 - loss: 1.9443\n",
      "Test loss: 1.94\n",
      "Test accuracy: 15.54%\n",
      "CPU times: user 9min 16s, sys: 372 ms, total: 9min 16s\n",
      "Wall time: 1min 2s\n"
     ]
    }
   ],
   "source": [
    "%%time\n",
    "(test_loss, test_accuracy) = cnn.evaluate(X_test, y_test_preprocessed, batch_size=32)\n",
    "\n",
    "print('Test loss: {:.2f}'.format(test_loss)) \n",
    "print('Test accuracy: {:.2f}%'.format(100*test_accuracy)) "
   ]
  },
  {
   "cell_type": "markdown",
   "id": "927607b9-015d-4e12-b763-90a9b68bec05",
   "metadata": {},
   "source": [
    "### Transfer learning\n",
    "Using MobileNetV3Small"
   ]
  },
  {
   "cell_type": "code",
   "execution_count": 26,
   "id": "1fc759d8-ba39-430b-89fe-908de34213aa",
   "metadata": {},
   "outputs": [],
   "source": [
    "with open(join(MODELS_PATH, 'transfer_mobilenet.pickle'), 'rb') as handle:\n",
    "    transfer_mobilenet = pickle.load(handle)"
   ]
  },
  {
   "cell_type": "code",
   "execution_count": 27,
   "id": "4c83f578-6f8a-42fb-8624-a3fda44e2b39",
   "metadata": {},
   "outputs": [],
   "source": [
    "_, y_test_classes = np.unique(y_test, return_inverse=True)\n",
    "y_test_preprocessed = to_categorical(y_test_classes, num_classes=output_classes)"
   ]
  },
  {
   "cell_type": "code",
   "execution_count": 30,
   "id": "9f3f6956-200e-462b-9259-f0f4df9be1c3",
   "metadata": {},
   "outputs": [
    {
     "name": "stdout",
     "output_type": "stream",
     "text": [
      "\u001b[1m121/121\u001b[0m \u001b[32m━━━━━━━━━━━━━━━━━━━━\u001b[0m\u001b[37m\u001b[0m \u001b[1m21s\u001b[0m 175ms/step - accuracy: 0.6217 - loss: 1.7474\n",
      "Test loss: 1.69\n",
      "Test accuracy: 63.29%\n",
      "CPU times: user 2min 43s, sys: 3.97 s, total: 2min 47s\n",
      "Wall time: 21.4 s\n"
     ]
    }
   ],
   "source": [
    "%%time\n",
    "(test_loss, test_accuracy) = transfer_mobilenet.evaluate(X_test, y_test_preprocessed, batch_size=32)\n",
    "\n",
    "print('Test loss: {:.2f}'.format(test_loss)) \n",
    "print('Test accuracy: {:.2f}%'.format(100*test_accuracy)) "
   ]
  }
 ],
 "metadata": {
  "kernelspec": {
   "display_name": "Python 3 (ipykernel)",
   "language": "python",
   "name": "python3"
  },
  "language_info": {
   "codemirror_mode": {
    "name": "ipython",
    "version": 3
   },
   "file_extension": ".py",
   "mimetype": "text/x-python",
   "name": "python",
   "nbconvert_exporter": "python",
   "pygments_lexer": "ipython3",
   "version": "3.11.7"
  }
 },
 "nbformat": 4,
 "nbformat_minor": 5
}
