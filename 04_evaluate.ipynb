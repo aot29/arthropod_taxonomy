{
 "cells": [
  {
   "cell_type": "markdown",
   "id": "e0c0dc37-8261-4054-99b8-dcb6886d1c27",
   "metadata": {},
   "source": [
    "## Evaluate\n",
    "* Load the previously trained models\n",
    "* Load the test data\n",
    "* Evaluate the accuracy and inference speed of each model"
   ]
  },
  {
   "cell_type": "code",
   "execution_count": 12,
   "id": "77d48b70-ba6f-42e3-8371-292f4a5ad33f",
   "metadata": {},
   "outputs": [],
   "source": [
    "from tensorflow.keras.utils import to_categorical\n",
    "\n",
    "import numpy as np\n",
    "from os.path import join\n",
    "import pickle\n",
    "import random\n",
    "import pandas as pd\n",
    "from matplotlib import pyplot as plt\n",
    "import time\n",
    "import keras \n",
    "%matplotlib inline"
   ]
  },
  {
   "cell_type": "markdown",
   "id": "e87d4ac1-a753-42d2-ae83-3954393f5f52",
   "metadata": {},
   "source": [
    "Global variables"
   ]
  },
  {
   "cell_type": "code",
   "execution_count": 2,
   "id": "c67f6474-68f9-4004-a241-dbcbd902f47e",
   "metadata": {},
   "outputs": [],
   "source": [
    "DATA_PATH = 'data'\n",
    "MODELS_PATH = 'models'"
   ]
  },
  {
   "cell_type": "code",
   "execution_count": 3,
   "id": "7e3db513-7342-49d9-b1a8-cc5ee39d7986",
   "metadata": {},
   "outputs": [],
   "source": [
    "# input image dimensions\n",
    "input_width = 300\n",
    "input_height = 300\n",
    "input_depth = 3\n",
    "input_dim = input_width*input_height*input_depth\n",
    "input_shape = (input_width, input_height, input_depth)\n",
    "\n",
    "# classification classes\n",
    "output_classes = 7\n",
    "\n",
    "# size of sample used to train the model\n",
    "NUM_TEST_SAMPLES = 1000\n",
    "\n",
    "# Rescale the data (color) values\n",
    "scale = False  # rather not\n",
    "\n",
    "# number of times the accuracy tests should be repeated\n",
    "NUM_TESTS = 10"
   ]
  },
  {
   "cell_type": "markdown",
   "id": "febbc3b2-50a3-40f3-984a-1d2e0babe81d",
   "metadata": {},
   "source": [
    "## Test data\n",
    "Load the data prepared in previous notebook"
   ]
  },
  {
   "cell_type": "code",
   "execution_count": 14,
   "id": "25e1f13f-6671-48c5-8886-6ad2c956fbdb",
   "metadata": {},
   "outputs": [],
   "source": [
    "with np.load(join(DATA_PATH, 'test_data.npz')) as data:\n",
    "    data_dict=dict(data.items())\n",
    "X_test = data_dict['X']\n",
    "y_test = data_dict['y']"
   ]
  },
  {
   "cell_type": "markdown",
   "id": "ccbd1c2e-81a5-4fe4-8b7a-5c7c7d6390be",
   "metadata": {},
   "source": [
    "Optionally subsample the data for faster training during try-outs"
   ]
  },
  {
   "cell_type": "code",
   "execution_count": 15,
   "id": "5847001c-8317-4f9c-906a-1520111538c4",
   "metadata": {},
   "outputs": [],
   "source": [
    "# Get a smaller random sample \n",
    "def sample_test_data():\n",
    "    idx = random.sample(range(len(X_test)-1), NUM_TEST_SAMPLES)\n",
    "    X_test_sub = X_test[idx]\n",
    "    y_test_sub = y_test[idx]    \n",
    "    return X_test_sub, y_test_sub"
   ]
  },
  {
   "cell_type": "markdown",
   "id": "3eaad873-3611-4f78-a02e-d3b86feeed4f",
   "metadata": {},
   "source": [
    "## Test accuracy\n",
    "Test accuracy on test dataset for different models trained in previous notebooks"
   ]
  },
  {
   "cell_type": "code",
   "execution_count": 6,
   "id": "384af0c2-ba04-48da-8c5e-502553672ae2",
   "metadata": {},
   "outputs": [],
   "source": [
    "# define results matrix\n",
    "eval_pd = pd.DataFrame(columns=['model', 'accuracy', 'CPU_time'])"
   ]
  },
  {
   "cell_type": "markdown",
   "id": "bd58b14f-7f65-4031-bf37-cd2b538b378a",
   "metadata": {},
   "source": [
    "### Dummy model\n",
    "Dummy -most common category- model, used as baseline"
   ]
  },
  {
   "cell_type": "code",
   "execution_count": 7,
   "id": "17e0a089-91f2-4f71-b17c-b6f323682d86",
   "metadata": {},
   "outputs": [],
   "source": [
    "with open(join(MODELS_PATH, 'dummy.pickle'), 'rb') as handle:\n",
    "    dummy = pickle.load(handle)"
   ]
  },
  {
   "cell_type": "code",
   "execution_count": 8,
   "id": "c335a07f-bcb8-4ce3-a83c-2bb692ef4e3d",
   "metadata": {},
   "outputs": [
    {
     "name": "stdout",
     "output_type": "stream",
     "text": [
      "CPU times: user 472 ms, sys: 361 ms, total: 832 ms\n",
      "Wall time: 850 ms\n"
     ]
    }
   ],
   "source": [
    "%%time\n",
    "\n",
    "model_name = 'dummy'\n",
    "for _ in range(NUM_TESTS):\n",
    "    X_test_sub, y_test_sub = sample_test_data()\n",
    "    # Flatten images, as required by dumnmy and SVn models\n",
    "    X_flat = [img.flatten() for img in X_test_sub]\n",
    "\n",
    "    start = time.process_time()\n",
    "    # Compute accuracy on the test set\n",
    "    accuracy = dummy.score(X_flat, y_test_sub)\n",
    "    dtime = time.process_time() - start\n",
    "    \n",
    "    eval_pd.loc[len(eval_pd)] = {'model': model_name , 'accuracy': accuracy, 'CPU_time': dtime}"
   ]
  },
  {
   "cell_type": "markdown",
   "id": "c50358ab-e255-4fa2-8748-471cbff34fa8",
   "metadata": {},
   "source": [
    "### ~~SVN~~\n",
    "~~Support Vector Machine, also applied to flattened images~~\n",
    "\n",
    "Takes more than 1 h to run, definitely not suitable for real-time classification."
   ]
  },
  {
   "cell_type": "code",
   "execution_count": 9,
   "id": "4476399d-368b-493d-8226-a509aa2166fe",
   "metadata": {},
   "outputs": [],
   "source": [
    "#with open(join(MODELS_PATH, 'pipe_svc.pickle'), 'rb') as handle:\n",
    "#    svn = pickle.load(handle)"
   ]
  },
  {
   "cell_type": "code",
   "execution_count": null,
   "id": "caf39623-bd71-4872-8849-64887ceee49f",
   "metadata": {},
   "outputs": [],
   "source": [
    "#%%time\n",
    "\n",
    "#model_name = 'svn'\n",
    "#for _ in range(NUM_TESTS):\n",
    "#    X_test_sub, y_test_sub = sample_test_data()\n",
    "#    # Flatten images, as required by dumnmy and SVn models\n",
    "#    X_flat = [img.flatten() for img in X_test_sub]\n",
    "\n",
    "#    start = time.process_time()\n",
    "    # Compute accuracy on the test set\n",
    "#    accuracy = svn.score(X_flat, y_test_sub)\n",
    "#    dtime = time.process_time() - start\n",
    "    \n",
    "#    eval_pd.loc[len(eval_pd)] = {'model': model_name , 'accuracy': accuracy, 'CPU_time': dtime}"
   ]
  },
  {
   "cell_type": "markdown",
   "id": "00ad5ca9-76df-4296-8eb3-6912a838c506",
   "metadata": {},
   "source": [
    "### CNN\n",
    "Convolutional Neural Network model, applied to 2D image data"
   ]
  },
  {
   "cell_type": "code",
   "execution_count": 16,
   "id": "03685b13-7d79-44e0-95a0-3cad34982a63",
   "metadata": {},
   "outputs": [],
   "source": [
    "with open(join(MODELS_PATH, 'cnn.pickle'), 'rb') as handle:\n",
    "    cnn = pickle.load(handle)"
   ]
  },
  {
   "cell_type": "code",
   "execution_count": 17,
   "id": "a1c68e8e-dcde-44ef-a6be-a0ad6534693d",
   "metadata": {},
   "outputs": [
    {
     "name": "stdout",
     "output_type": "stream",
     "text": [
      "\u001b[1m32/32\u001b[0m \u001b[32m━━━━━━━━━━━━━━━━━━━━\u001b[0m\u001b[37m\u001b[0m \u001b[1m3s\u001b[0m 101ms/step - accuracy: 0.1851 - loss: 4.4636\n",
      "\u001b[1m32/32\u001b[0m \u001b[32m━━━━━━━━━━━━━━━━━━━━\u001b[0m\u001b[37m\u001b[0m \u001b[1m3s\u001b[0m 104ms/step - accuracy: 0.1778 - loss: 4.3104\n",
      "\u001b[1m32/32\u001b[0m \u001b[32m━━━━━━━━━━━━━━━━━━━━\u001b[0m\u001b[37m\u001b[0m \u001b[1m4s\u001b[0m 113ms/step - accuracy: 0.1948 - loss: 4.4028\n",
      "\u001b[1m32/32\u001b[0m \u001b[32m━━━━━━━━━━━━━━━━━━━━\u001b[0m\u001b[37m\u001b[0m \u001b[1m5s\u001b[0m 167ms/step - accuracy: 0.2016 - loss: 4.4350\n",
      "\u001b[1m32/32\u001b[0m \u001b[32m━━━━━━━━━━━━━━━━━━━━\u001b[0m\u001b[37m\u001b[0m \u001b[1m5s\u001b[0m 168ms/step - accuracy: 0.1993 - loss: 4.0007\n",
      "\u001b[1m32/32\u001b[0m \u001b[32m━━━━━━━━━━━━━━━━━━━━\u001b[0m\u001b[37m\u001b[0m \u001b[1m6s\u001b[0m 173ms/step - accuracy: 0.1879 - loss: 4.9064\n",
      "\u001b[1m32/32\u001b[0m \u001b[32m━━━━━━━━━━━━━━━━━━━━\u001b[0m\u001b[37m\u001b[0m \u001b[1m6s\u001b[0m 173ms/step - accuracy: 0.1826 - loss: 5.2150\n",
      "\u001b[1m32/32\u001b[0m \u001b[32m━━━━━━━━━━━━━━━━━━━━\u001b[0m\u001b[37m\u001b[0m \u001b[1m5s\u001b[0m 162ms/step - accuracy: 0.1708 - loss: 4.7643\n",
      "\u001b[1m32/32\u001b[0m \u001b[32m━━━━━━━━━━━━━━━━━━━━\u001b[0m\u001b[37m\u001b[0m \u001b[1m5s\u001b[0m 161ms/step - accuracy: 0.1586 - loss: 4.8075\n",
      "\u001b[1m32/32\u001b[0m \u001b[32m━━━━━━━━━━━━━━━━━━━━\u001b[0m\u001b[37m\u001b[0m \u001b[1m5s\u001b[0m 160ms/step - accuracy: 0.1822 - loss: 4.0101\n",
      "CPU times: user 7min 5s, sys: 1.88 s, total: 7min 7s\n",
      "Wall time: 49.2 s\n"
     ]
    }
   ],
   "source": [
    "%%time\n",
    "\n",
    "model_name = 'cnn'\n",
    "for _ in range(NUM_TESTS):\n",
    "    X_test_sub, y_test_sub = sample_test_data()\n",
    "    X_test_sub = X_test_sub.reshape(-1, input_width, input_height, input_depth)\n",
    "\n",
    "    # One-hot encode the labels\n",
    "    _, y_test_preprocessed = np.unique(y_test_sub, return_inverse=True)\n",
    "    y_test_preprocessed = keras.utils.to_categorical(y_test_preprocessed, output_classes)\n",
    "\n",
    "    start = time.process_time()\n",
    "    # Compute accuracy on the test set\n",
    "    (_, accuracy) = cnn.evaluate(X_test_sub, y_test_preprocessed, batch_size=32)\n",
    "    dtime = time.process_time() - start\n",
    "    \n",
    "    eval_pd.loc[len(eval_pd)] = {'model': model_name , 'accuracy': accuracy, 'CPU_time': dtime}"
   ]
  },
  {
   "cell_type": "markdown",
   "id": "927607b9-015d-4e12-b763-90a9b68bec05",
   "metadata": {},
   "source": [
    "### Transfer learning\n",
    "Using MobileNetV3Small"
   ]
  },
  {
   "cell_type": "code",
   "execution_count": 22,
   "id": "1fc759d8-ba39-430b-89fe-908de34213aa",
   "metadata": {},
   "outputs": [],
   "source": [
    "with open(join(MODELS_PATH, 'transfer_mobilenet.pickle'), 'rb') as handle:\n",
    "    transfer_mobilenet = pickle.load(handle)"
   ]
  },
  {
   "cell_type": "code",
   "execution_count": 23,
   "id": "9f3f6956-200e-462b-9259-f0f4df9be1c3",
   "metadata": {},
   "outputs": [
    {
     "name": "stdout",
     "output_type": "stream",
     "text": [
      "\u001b[1m32/32\u001b[0m \u001b[32m━━━━━━━━━━━━━━━━━━━━\u001b[0m\u001b[37m\u001b[0m \u001b[1m6s\u001b[0m 179ms/step - accuracy: 0.6548 - loss: 1.5574 \n",
      "\u001b[1m32/32\u001b[0m \u001b[32m━━━━━━━━━━━━━━━━━━━━\u001b[0m\u001b[37m\u001b[0m \u001b[1m6s\u001b[0m 179ms/step - accuracy: 0.6326 - loss: 1.6799\n",
      "\u001b[1m32/32\u001b[0m \u001b[32m━━━━━━━━━━━━━━━━━━━━\u001b[0m\u001b[37m\u001b[0m \u001b[1m5s\u001b[0m 170ms/step - accuracy: 0.6413 - loss: 1.6901\n",
      "\u001b[1m32/32\u001b[0m \u001b[32m━━━━━━━━━━━━━━━━━━━━\u001b[0m\u001b[37m\u001b[0m \u001b[1m5s\u001b[0m 172ms/step - accuracy: 0.6203 - loss: 1.7755\n",
      "\u001b[1m32/32\u001b[0m \u001b[32m━━━━━━━━━━━━━━━━━━━━\u001b[0m\u001b[37m\u001b[0m \u001b[1m5s\u001b[0m 171ms/step - accuracy: 0.6360 - loss: 1.6590\n",
      "\u001b[1m32/32\u001b[0m \u001b[32m━━━━━━━━━━━━━━━━━━━━\u001b[0m\u001b[37m\u001b[0m \u001b[1m5s\u001b[0m 170ms/step - accuracy: 0.6000 - loss: 1.8196\n",
      "\u001b[1m32/32\u001b[0m \u001b[32m━━━━━━━━━━━━━━━━━━━━\u001b[0m\u001b[37m\u001b[0m \u001b[1m5s\u001b[0m 170ms/step - accuracy: 0.6441 - loss: 1.6135\n",
      "\u001b[1m32/32\u001b[0m \u001b[32m━━━━━━━━━━━━━━━━━━━━\u001b[0m\u001b[37m\u001b[0m \u001b[1m5s\u001b[0m 168ms/step - accuracy: 0.6226 - loss: 1.6812\n",
      "\u001b[1m32/32\u001b[0m \u001b[32m━━━━━━━━━━━━━━━━━━━━\u001b[0m\u001b[37m\u001b[0m \u001b[1m5s\u001b[0m 160ms/step - accuracy: 0.6137 - loss: 2.0067\n",
      "\u001b[1m32/32\u001b[0m \u001b[32m━━━━━━━━━━━━━━━━━━━━\u001b[0m\u001b[37m\u001b[0m \u001b[1m5s\u001b[0m 171ms/step - accuracy: 0.6175 - loss: 1.8701\n",
      "CPU times: user 6min 56s, sys: 10.8 s, total: 7min 7s\n",
      "Wall time: 56.2 s\n"
     ]
    }
   ],
   "source": [
    "%%time\n",
    "\n",
    "model_name = 'transfer'\n",
    "for _ in range(NUM_TESTS):\n",
    "    X_test_sub, y_test_sub = sample_test_data()\n",
    "    # One-hot encode the labels\n",
    "    _, y_test_classes = np.unique(y_test_sub, return_inverse=True)\n",
    "    y_test_preprocessed = to_categorical(y_test_classes, num_classes=output_classes)\n",
    "    \n",
    "    start = time.process_time()\n",
    "    # Compute accuracy on the test set\n",
    "    (_, accuracy) = transfer_mobilenet.evaluate(X_test_sub, y_test_preprocessed, batch_size=32)\n",
    "    dtime = time.process_time() - start\n",
    "    \n",
    "    eval_pd.loc[len(eval_pd)] = {'model': model_name , 'accuracy': accuracy, 'CPU_time': dtime}\n"
   ]
  },
  {
   "cell_type": "markdown",
   "id": "90967fe9-cca3-4525-b147-c0ee4f20f471",
   "metadata": {},
   "source": [
    "### Transfer learning augmented\n",
    "Using MobileNetV3Small and an augment layer."
   ]
  },
  {
   "cell_type": "code",
   "execution_count": 24,
   "id": "a71c1661-4d23-4ace-a05c-063ca9ce78d6",
   "metadata": {},
   "outputs": [],
   "source": [
    "with open(join(MODELS_PATH, 'transfer_mobilenet_augmented.pickle'), 'rb') as handle:\n",
    "    transfer_mobilenet_augmented = pickle.load(handle)"
   ]
  },
  {
   "cell_type": "code",
   "execution_count": 25,
   "id": "f3624b3d-44cd-4e8e-b299-ca92e0bf0ee9",
   "metadata": {},
   "outputs": [
    {
     "name": "stdout",
     "output_type": "stream",
     "text": [
      "\u001b[1m32/32\u001b[0m \u001b[32m━━━━━━━━━━━━━━━━━━━━\u001b[0m\u001b[37m\u001b[0m \u001b[1m6s\u001b[0m 175ms/step - accuracy: 0.5942 - loss: 1.7606 \n",
      "\u001b[1m32/32\u001b[0m \u001b[32m━━━━━━━━━━━━━━━━━━━━\u001b[0m\u001b[37m\u001b[0m \u001b[1m5s\u001b[0m 169ms/step - accuracy: 0.6152 - loss: 1.6933\n",
      "\u001b[1m32/32\u001b[0m \u001b[32m━━━━━━━━━━━━━━━━━━━━\u001b[0m\u001b[37m\u001b[0m \u001b[1m5s\u001b[0m 171ms/step - accuracy: 0.5886 - loss: 1.9135\n",
      "\u001b[1m32/32\u001b[0m \u001b[32m━━━━━━━━━━━━━━━━━━━━\u001b[0m\u001b[37m\u001b[0m \u001b[1m5s\u001b[0m 170ms/step - accuracy: 0.5807 - loss: 1.9245\n",
      "\u001b[1m32/32\u001b[0m \u001b[32m━━━━━━━━━━━━━━━━━━━━\u001b[0m\u001b[37m\u001b[0m \u001b[1m5s\u001b[0m 172ms/step - accuracy: 0.6289 - loss: 1.8112\n",
      "\u001b[1m32/32\u001b[0m \u001b[32m━━━━━━━━━━━━━━━━━━━━\u001b[0m\u001b[37m\u001b[0m \u001b[1m5s\u001b[0m 167ms/step - accuracy: 0.6139 - loss: 1.8516\n",
      "\u001b[1m32/32\u001b[0m \u001b[32m━━━━━━━━━━━━━━━━━━━━\u001b[0m\u001b[37m\u001b[0m \u001b[1m5s\u001b[0m 170ms/step - accuracy: 0.6170 - loss: 1.8241\n",
      "\u001b[1m32/32\u001b[0m \u001b[32m━━━━━━━━━━━━━━━━━━━━\u001b[0m\u001b[37m\u001b[0m \u001b[1m5s\u001b[0m 169ms/step - accuracy: 0.5976 - loss: 1.8597\n",
      "\u001b[1m32/32\u001b[0m \u001b[32m━━━━━━━━━━━━━━━━━━━━\u001b[0m\u001b[37m\u001b[0m \u001b[1m5s\u001b[0m 168ms/step - accuracy: 0.6340 - loss: 1.7638\n",
      "\u001b[1m32/32\u001b[0m \u001b[32m━━━━━━━━━━━━━━━━━━━━\u001b[0m\u001b[37m\u001b[0m \u001b[1m5s\u001b[0m 170ms/step - accuracy: 0.5924 - loss: 1.8853\n",
      "CPU times: user 6min 58s, sys: 9.66 s, total: 7min 8s\n",
      "Wall time: 55.8 s\n"
     ]
    }
   ],
   "source": [
    "%%time\n",
    "\n",
    "model_name = 'transfer_augmented'\n",
    "for _ in range(NUM_TESTS):\n",
    "    X_test_sub, y_test_sub = sample_test_data()\n",
    "    # One-hot encode the labels\n",
    "    _, y_test_classes = np.unique(y_test_sub, return_inverse=True)\n",
    "    y_test_preprocessed = to_categorical(y_test_classes, num_classes=output_classes)\n",
    "    \n",
    "    start = time.process_time()\n",
    "    # Compute accuracy on the test set\n",
    "    (_, accuracy) = transfer_mobilenet_augmented.evaluate(X_test_sub, y_test_preprocessed, batch_size=32)\n",
    "    dtime = time.process_time() - start\n",
    "    \n",
    "    eval_pd.loc[len(eval_pd)] = {'model': model_name , 'accuracy': accuracy, 'CPU_time': dtime}"
   ]
  },
  {
   "cell_type": "code",
   "execution_count": null,
   "id": "d6a6077c-6630-495d-be76-0861f5a8c7c7",
   "metadata": {},
   "outputs": [],
   "source": [
    "# save evaluation results\n",
    "eval_pd.to_csv('evaluation.csv', index=False) "
   ]
  },
  {
   "cell_type": "markdown",
   "id": "5b95c461-7025-49ea-a1a3-29de2d065977",
   "metadata": {},
   "source": [
    "### Visualize results"
   ]
  },
  {
   "cell_type": "code",
   "execution_count": 28,
   "id": "89f27c71-9a5c-4505-997f-94064182e73b",
   "metadata": {},
   "outputs": [
    {
     "ename": "KeyError",
     "evalue": "'transfer_augmented'",
     "output_type": "error",
     "traceback": [
      "\u001b[0;31m---------------------------------------------------------------------------\u001b[0m",
      "\u001b[0;31mKeyError\u001b[0m                                  Traceback (most recent call last)",
      "Cell \u001b[0;32mIn[28], line 6\u001b[0m\n\u001b[1;32m      4\u001b[0m grouped \u001b[38;5;241m=\u001b[39m eval_pd\u001b[38;5;241m.\u001b[39mgroupby(\u001b[38;5;124m'\u001b[39m\u001b[38;5;124mmodel\u001b[39m\u001b[38;5;124m'\u001b[39m)\n\u001b[1;32m      5\u001b[0m \u001b[38;5;28;01mfor\u001b[39;00m key,group \u001b[38;5;129;01min\u001b[39;00m grouped:\n\u001b[0;32m----> 6\u001b[0m     group\u001b[38;5;241m.\u001b[39mplot(ax\u001b[38;5;241m=\u001b[39max, kind\u001b[38;5;241m=\u001b[39m\u001b[38;5;124m'\u001b[39m\u001b[38;5;124mscatter\u001b[39m\u001b[38;5;124m'\u001b[39m, x\u001b[38;5;241m=\u001b[39m\u001b[38;5;124m'\u001b[39m\u001b[38;5;124mCPU_time\u001b[39m\u001b[38;5;124m'\u001b[39m, y\u001b[38;5;241m=\u001b[39m\u001b[38;5;124m'\u001b[39m\u001b[38;5;124maccuracy\u001b[39m\u001b[38;5;124m'\u001b[39m, label\u001b[38;5;241m=\u001b[39mlabels[key], color\u001b[38;5;241m=\u001b[39m\u001b[43mcolors\u001b[49m\u001b[43m[\u001b[49m\u001b[43mkey\u001b[49m\u001b[43m]\u001b[49m)\n\u001b[1;32m      7\u001b[0m \u001b[38;5;66;03m#ax.set_xscale('log')\u001b[39;00m\n\u001b[1;32m      8\u001b[0m ax\u001b[38;5;241m.\u001b[39mset_xlabel(\u001b[38;5;124mf\u001b[39m\u001b[38;5;124m\"\u001b[39m\u001b[38;5;124mCPU time (s) per \u001b[39m\u001b[38;5;132;01m{\u001b[39;00mNUM_TEST_SAMPLES\u001b[38;5;132;01m}\u001b[39;00m\u001b[38;5;124m samples\u001b[39m\u001b[38;5;124m\"\u001b[39m)\n",
      "\u001b[0;31mKeyError\u001b[0m: 'transfer_augmented'"
     ]
    },
    {
     "data": {
      "image/png": "[encoded data removed]",
      "text/plain": [
       "<Figure size 600x600 with 1 Axes>"
      ]
     },
     "metadata": {},
     "output_type": "display_data"
    }
   ],
   "source": [
    "fig, ax = plt.subplots(figsize=(6, 6))\n",
    "colors = {'dummy':'tab:grey', 'svn':'tab:green', 'cnn':'tab:cyan', 'transfer':'tab:orange'}\n",
    "labels = {'dummy':'Dummy', 'svn':'Support Vector Machine', 'cnn':'Convolutional NN', 'transfer':'Transfer MobileNet', 'transfer_augmented': 'Transfer Augmented'}\n",
    "grouped = eval_pd.groupby('model')\n",
    "for key,group in grouped:\n",
    "    group.plot(ax=ax, kind='scatter', x='CPU_time', y='accuracy', label=labels[key], color=colors[key])\n",
    "#ax.set_xscale('log')\n",
    "ax.set_xlabel(f\"CPU time (s) per {NUM_TEST_SAMPLES} samples\")\n",
    "ax.set_ylabel(\"Accuracy\")\n",
    "plt.legend()\n",
    "plt.show()"
   ]
  },
  {
   "cell_type": "markdown",
   "id": "30c39365-0fc2-474f-b240-893a0f4f7f41",
   "metadata": {},
   "source": [
    "### Averages per sample\n",
    "Note that CPU time is cumulated over all CPUs used, so migt be larger than wall time."
   ]
  },
  {
   "cell_type": "code",
   "execution_count": 26,
   "id": "15513cb7-40a1-4cca-9965-fc06f856abfd",
   "metadata": {},
   "outputs": [],
   "source": [
    "avg_df = pd.DataFrame(columns=['model', 'average accuracy', 'average time'])\n",
    "def get_eval_avg(model):\n",
    "    acc_avg = eval_pd[eval_pd.model==model].accuracy.mean()\n",
    "    time_avg = eval_pd[eval_pd.model==model].CPU_time.mean()/NUM_TEST_SAMPLES\n",
    "    return acc_avg, time_avg\n",
    "acc_avg, time_avg = get_eval_avg('dummy')\n",
    "avg_df.loc[len(avg_df)] = {'model': 'Dummy' , 'average accuracy': acc_avg, 'average time': time_avg}\n",
    "#acc_avg, time_avg = get_eval_avg('svn')\n",
    "#avg_df.loc[len(avg_df)] = {'model': 'Support Vector Machine' , 'average accuracy': acc_avg, 'average time': time_avg}\n",
    "acc_avg, time_avg = get_eval_avg('cnn')\n",
    "avg_df.loc[len(avg_df)] = {'model': 'Convolutional NN' , 'average accuracy': acc_avg, 'average time': time_avg}\n",
    "acc_avg, time_avg = get_eval_avg('transfer')\n",
    "avg_df.loc[len(avg_df)] = {'model': 'Transfer MobileNet' , 'average accuracy': acc_avg, 'average time': time_avg}\n",
    "acc_avg, time_avg = get_eval_avg('transfer_augmented')\n",
    "avg_df.loc[len(avg_df)] = {'model': 'Transfer Augmented' , 'average accuracy': acc_avg, 'average time': time_avg}"
   ]
  },
  {
   "cell_type": "code",
   "execution_count": 27,
   "id": "717033bf-c989-4771-8848-9c7198c146ab",
   "metadata": {},
   "outputs": [
    {
     "data": {
      "text/html": [
       "<div>\n",
       "<style scoped>\n",
       "    .dataframe tbody tr th:only-of-type {\n",
       "        vertical-align: middle;\n",
       "    }\n",
       "\n",
       "    .dataframe tbody tr th {\n",
       "        vertical-align: top;\n",
       "    }\n",
       "\n",
       "    .dataframe thead th {\n",
       "        text-align: right;\n",
       "    }\n",
       "</style>\n",
       "<table border=\"1\" class=\"dataframe\">\n",
       "  <thead>\n",
       "    <tr style=\"text-align: right;\">\n",
       "      <th></th>\n",
       "      <th>model</th>\n",
       "      <th>average accuracy</th>\n",
       "      <th>average time</th>\n",
       "    </tr>\n",
       "  </thead>\n",
       "  <tbody>\n",
       "    <tr>\n",
       "      <th>0</th>\n",
       "      <td>Dummy</td>\n",
       "      <td>0.1581</td>\n",
       "      <td>0.000003</td>\n",
       "    </tr>\n",
       "    <tr>\n",
       "      <th>1</th>\n",
       "      <td>Convolutional NN</td>\n",
       "      <td>0.1831</td>\n",
       "      <td>0.042676</td>\n",
       "    </tr>\n",
       "    <tr>\n",
       "      <th>2</th>\n",
       "      <td>Transfer MobileNet</td>\n",
       "      <td>0.6292</td>\n",
       "      <td>0.042685</td>\n",
       "    </tr>\n",
       "    <tr>\n",
       "      <th>3</th>\n",
       "      <td>Transfer Augmented</td>\n",
       "      <td>0.6135</td>\n",
       "      <td>0.042758</td>\n",
       "    </tr>\n",
       "  </tbody>\n",
       "</table>\n",
       "</div>"
      ],
      "text/plain": [
       "                model  average accuracy  average time\n",
       "0               Dummy            0.1581      0.000003\n",
       "1    Convolutional NN            0.1831      0.042676\n",
       "2  Transfer MobileNet            0.6292      0.042685\n",
       "3  Transfer Augmented            0.6135      0.042758"
      ]
     },
     "execution_count": 27,
     "metadata": {},
     "output_type": "execute_result"
    }
   ],
   "source": [
    "avg_df"
   ]
  },
  {
   "cell_type": "code",
   "execution_count": null,
   "id": "2c2e78bf-2105-4f0a-8512-895160891fa9",
   "metadata": {},
   "outputs": [],
   "source": []
  }
 ],
 "metadata": {
  "kernelspec": {
   "display_name": "Python 3 (ipykernel)",
   "language": "python",
   "name": "python3"
  },
  "language_info": {
   "codemirror_mode": {
    "name": "ipython",
    "version": 3
   },
   "file_extension": ".py",
   "mimetype": "text/x-python",
   "name": "python",
   "nbconvert_exporter": "python",
   "pygments_lexer": "ipython3",
   "version": "3.11.7"
  }
 },
 "nbformat": 4,
 "nbformat_minor": 5
}
