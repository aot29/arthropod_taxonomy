{
 "cells": [
  {
   "cell_type": "markdown",
   "metadata": {},
   "source": [
    "# Data\n",
    "A dataset of arthropod images was obtained from Kaggle (Geir Drange, 2020). This dataset (manually compiled from iNaturalist and similar sources), contains 15376 files of 7 taxa (orders) of arthropods:\n",
    "* Araneae (spiders)\n",
    "* Coleoptera (beetles)\n",
    "* Diptera (flies)\n",
    "* Hemiptera (cicadas, aphids, ...)\n",
    "* Hymenoptera (wasps, bees, ...)\n",
    "* Lepidoptera (butterflies, moths)\n",
    "* Odonata (dragonflies, ...)\n",
    "Most images are taken in the wild, using a variety of foto equipment by multiple authors. Most images contain one specimen of interest, but some contain multiple specimens of the same or of different taxa.\n",
    "\n",
    "This dataset is licensed as CC BY-NC-SA 4.0."
   ]
  },
  {
   "cell_type": "code",
   "execution_count": 1,
   "metadata": {},
   "outputs": [],
   "source": [
    "DATA_PATH = 'data'  # for local notebook\n",
    "# DATA_PATH = '/kaggle/input/arthropod-taxonomy-orders-object-detection-dataset/'  # for kaggle notebook"
   ]
  },
  {
   "cell_type": "markdown",
   "metadata": {},
   "source": [
    "## Reformat the images\n",
    "\n",
    "* Resize the image, to save memory and processing time.\n",
    "* Transform the images into numpy arrays.\n",
    "* Keep only the red channel, to save memory and processing time. Assuming pictures of insects on green leaves are most contrasted in the red channel.\n",
    "* Test the function by plotting the first image."
   ]
  },
  {
   "cell_type": "code",
   "execution_count": 2,
   "metadata": {},
   "outputs": [],
   "source": [
    "from os import listdir\n",
    "from os.path import isfile, join\n",
    "from PIL import Image, ImageDraw\n",
    "import numpy as np\n",
    "import json"
   ]
  },
  {
   "cell_type": "code",
   "execution_count": 3,
   "metadata": {},
   "outputs": [],
   "source": [
    "def format_image(path, box=None):\n",
    "    \"\"\"Takes a path to an image as input. Loads and rescales the image.\n",
    "    Returns a numpy array representing the the image.\"\"\"\n",
    "    size = (64, 64)\n",
    "    # Load the image using PIL\n",
    "    pillow_img = Image.open(path)\n",
    "    # get image crop\n",
    "    if box:\n",
    "        #draw = ImageDraw.Draw(pillow_img)\n",
    "        xy = (box['left'], box['top'], box['left']+box['width'], box['top']+box['height'])\n",
    "        #draw.rectangle(xy, outline=\"white\", fill=None, width = 3)\n",
    "        pillow_img = pillow_img.crop(xy)\n",
    "    pillow_img = pillow_img.resize(size)\n",
    "    img = np.array(pillow_img)\n",
    "    # return(img[:,:,1] ) # 0: red, 1: green, 2: blue channel\n",
    "    return(img)"
   ]
  },
  {
   "cell_type": "code",
   "execution_count": 4,
   "metadata": {},
   "outputs": [],
   "source": [
    "def open_annotations(annotation_path, taxon):\n",
    "    \"\"\"\n",
    "    Opens an annotations file.\n",
    "    Returns the name of the image and the first bounding box with the correct taxon.\n",
    "    \"\"\"\n",
    "    try:\n",
    "        with open(annotation_path) as json_file:\n",
    "            text = json_file.read(-1)\n",
    "            data = json.loads(text)\n",
    "        image_name = data['asset']['name']\n",
    "        for region in data['regions']:\n",
    "            if taxon in region['tags']:\n",
    "                box = region['boundingBox']\n",
    "                break\n",
    "        return image_name, box\n",
    "    except:\n",
    "        return None, None"
   ]
  },
  {
   "cell_type": "markdown",
   "metadata": {},
   "source": [
    "Try out the function on a test image"
   ]
  },
  {
   "cell_type": "code",
   "execution_count": 5,
   "metadata": {},
   "outputs": [
    {
     "name": "stdout",
     "output_type": "stream",
     "text": [
      "shape: (64, 64, 3)\n",
      "min: 10 max: 255\n",
      "dtype: uint8\n"
     ]
    },
    {
     "data": {
      "image/png": "[encoded data removed]",
      "text/plain": [
       "<Figure size 640x480 with 1 Axes>"
      ]
     },
     "metadata": {},
     "output_type": "display_data"
    }
   ],
   "source": [
    "# Test the function on an example image \n",
    "#path = \"/kaggle/input/arthropod-taxonomy-orders-object-detection-dataset/ArTaxOr/Araneae/003eb3db1665.jpg\"\n",
    "#path = join(DATA_PATH, 'ArTaxOr/Araneae/003eb3db1665.jpg')\n",
    "#taxon = 'Araneae'\n",
    "#annotation_path = join(DATA_PATH, 'ArTaxOr/Araneae/annotations/ffe42f62826da1504c550ceca4ed4ae6-asset.json')\n",
    "taxon = 'Hemiptera'\n",
    "annotation_path = join(DATA_PATH, 'ArTaxOr/Hemiptera/annotations/bcc2d7481abaf11bd353d3f0d5f0451e-asset.json')\n",
    "image_name, box = open_annotations(annotation_path, taxon)\n",
    "image_path = join(DATA_PATH, 'ArTaxOr', taxon, image_name)\n",
    "\n",
    "img = format_image(image_path, box)\n",
    "print('shape:', img.shape)\n",
    "print('min:', img.min(), 'max:', img.max()) # min: 0 max: 255\n",
    "print('dtype:', img.dtype) # uint8\n",
    "\n",
    "%matplotlib inline\n",
    "import matplotlib.pyplot as plt\n",
    "\n",
    "# Plot the cropped image\n",
    "plt.imshow(img) \n",
    "plt.show()"
   ]
  },
  {
   "cell_type": "markdown",
   "metadata": {},
   "source": [
    "## Create feature matrix\n",
    "\n",
    "* Create a matrix of features (image pixels) vs. labels (taxa)\n",
    "* Split the data into train, validation and test datasets"
   ]
  },
  {
   "cell_type": "code",
   "execution_count": 6,
   "metadata": {},
   "outputs": [],
   "source": [
    "\n",
    "def make_matrix_from_dir(path):\n",
    "    \"\"\"Takes a dir as argument and returns two numpy arrays: features and labels\"\"\"\n",
    "    # the feature matrix and labels list\n",
    "    features = []  # the pixel data\n",
    "    labels = []  # the image labels (species)\n",
    "\n",
    "    # get a list of all images in the dataset\n",
    "    taxa_in_dataset = [taxon for taxon in listdir(path) if not isfile(join(path, taxon))]\n",
    "    for taxon in taxa_in_dataset:\n",
    "        print(f\"Processing taxon {taxon}\")\n",
    "        taxon_path = join(path, taxon)\n",
    "        # list all annotations files\n",
    "        annotations_path = join(taxon_path, 'annotations')\n",
    "        annotation_file_paths = [join(annotations_path, f) for f in listdir(annotations_path) if isfile(join(annotations_path, f))]\n",
    "        # load the annotation files\n",
    "        for annotation_path in annotation_file_paths:\n",
    "            # open annotation, get image and bounding box\n",
    "            image_name, box = open_annotations(annotation_path, taxon)\n",
    "            if image_name:\n",
    "                # load image, convert to numpy array with 3 channels: RGB\n",
    "                # resize and flatten the image to a 1-dimensional array,\n",
    "                image_path = join(DATA_PATH, 'ArTaxOr', taxon, image_name)\n",
    "                flat_img = format_image(image_path).flatten()\n",
    "                features.append(flat_img)\n",
    "                labels.append(taxon)\n",
    "    # format the features array to a vector of dimensions (num_images, num_pixels_in_each_image)\n",
    "    X = np.array(features)\n",
    "    # convert features to floats (as expected by scikit-learn)\n",
    "    X = X.astype(float)\n",
    "    # pack labels in numpy array\n",
    "    y = np.array(labels)\n",
    "    return X, y"
   ]
  },
  {
   "cell_type": "code",
   "execution_count": 7,
   "metadata": {},
   "outputs": [
    {
     "name": "stdout",
     "output_type": "stream",
     "text": [
      "Processing taxon Hemiptera\n",
      "Processing taxon Diptera\n",
      "Processing taxon Hymenoptera\n",
      "Processing taxon Lepidoptera\n",
      "Processing taxon Coleoptera\n",
      "Processing taxon Odonata\n",
      "Processing taxon Araneae\n",
      "CPU times: user 7min 24s, sys: 27.8 s, total: 7min 52s\n",
      "Wall time: 8min 9s\n"
     ]
    }
   ],
   "source": [
    "%%time\n",
    "from sklearn.model_selection import train_test_split\n",
    "\n",
    "images_path = join(DATA_PATH, 'ArTaxOr')\n",
    "\n",
    "# Create a matrix of features (image pixels) vs. labels (taxa)\n",
    "X, y = make_matrix_from_dir(images_path)"
   ]
  },
  {
   "cell_type": "markdown",
   "metadata": {},
   "source": [
    "Save the processed data for later use"
   ]
  },
  {
   "cell_type": "code",
   "execution_count": 9,
   "metadata": {},
   "outputs": [],
   "source": [
    "np.savez_compressed(join(DATA_PATH, 'processed_data.npz'), X=X, y=y)"
   ]
  },
  {
   "cell_type": "markdown",
   "metadata": {},
   "source": [
    "## References\n",
    "\n",
    "Geir Drange (2020). Arthropod Taxonomy Orders Object Detection Dataset [Data set]. Kaggle. https://doi.org/10.34740/KAGGLE/DSV/1240192\n",
    "\n",
    "Pedregosa et al. (2011), Scikit-learn: Machine Learning in Python, JMLR 12, pp. 2825-2830."
   ]
  },
  {
   "cell_type": "code",
   "execution_count": null,
   "metadata": {},
   "outputs": [],
   "source": []
  }
 ],
 "metadata": {
  "kaggle": {
   "accelerator": "none",
   "dataSources": [
    {
     "datasetId": 387909,
     "sourceId": 1240192,
     "sourceType": "datasetVersion"
    }
   ],
   "dockerImageVersionId": 30822,
   "isGpuEnabled": false,
   "isInternetEnabled": true,
   "language": "python",
   "sourceType": "notebook"
  },
  "kernelspec": {
   "display_name": "Python 3 (ipykernel)",
   "language": "python",
   "name": "python3"
  },
  "language_info": {
   "codemirror_mode": {
    "name": "ipython",
    "version": 3
   },
   "file_extension": ".py",
   "mimetype": "text/x-python",
   "name": "python",
   "nbconvert_exporter": "python",
   "pygments_lexer": "ipython3",
   "version": "3.11.5"
  }
 },
 "nbformat": 4,
 "nbformat_minor": 4
}
